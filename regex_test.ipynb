{
 "cells": [
  {
   "cell_type": "code",
   "execution_count": null,
   "id": "52a8112a",
   "metadata": {},
   "outputs": [],
   "source": [
    "#?P<sven>\n",
    "with open(\"names.txt\") as f:\n",
    "    data = f.readlines()\n",
    "   \n",
    "    print(data[0])\n",
    "\n",
    "# pattern = re.compile('(\\w+),\\s([A-Za-z]+-)*([A-Za-z]+).*\\s(@[a-z]+$)')\n",
    "pattern = re.compile('(\\w+),\\s(?P<sven>[A-Za-z]+-)*([A-Za-z]+).*\\s(@[a-z]+$)') <-- naming a group\n",
    "\n",
    "print('     =================')\n",
    "print('     Full Name/Twitter')\n",
    "print('     =================')\n",
    "\n",
    "for person in data:\n",
    "    match = pattern.search(person)\n",
    "    if match:\n",
    "        if match.group(2):\n",
    "            print('\\n' f\"{match.group(2)}{match.group(3)} {match.group(1)} / {match.group(4)}\")\n",
    "        else:\n",
    "            print('\\n' f\"{match.group(3)} {match.group(1)} / {match.group(4)}\")\n",
    "        \n",
    "   \n",
    "   \n"
   ]
  }
 ],
 "metadata": {
  "kernelspec": {
   "display_name": "Python 3 (ipykernel)",
   "language": "python",
   "name": "python3"
  },
  "language_info": {
   "codemirror_mode": {
    "name": "ipython",
    "version": 3
   },
   "file_extension": ".py",
   "mimetype": "text/x-python",
   "name": "python",
   "nbconvert_exporter": "python",
   "pygments_lexer": "ipython3",
   "version": "3.9.4"
  }
 },
 "nbformat": 4,
 "nbformat_minor": 5
}
